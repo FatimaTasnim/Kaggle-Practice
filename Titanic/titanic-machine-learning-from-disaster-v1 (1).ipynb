{
 "cells": [
  {
   "cell_type": "code",
   "execution_count": 1,
   "metadata": {
    "_cell_guid": "b1076dfc-b9ad-4769-8c92-a6c4dae69d19",
    "_uuid": "8f2839f25d086af736a60e9eeb907d3b93b6e0e5"
   },
   "outputs": [
    {
     "name": "stdout",
     "output_type": "stream",
     "text": [
      "['train.csv', 'gender_submission.csv', 'test.csv']\n"
     ]
    }
   ],
   "source": [
    "# This Python 3 environment comes with many helpful analytics libraries installed\n",
    "# It is defined by the kaggle/python docker image: https://github.com/kaggle/docker-python\n",
    "# For example, here's several helpful packages to load in \n",
    "\n",
    "import pandas as pd\n",
    "import numpy as np\n",
    "import matplotlib.pyplot as plt\n",
    "from sklearn.tree import DecisionTreeClassifier\n",
    "from sklearn import datasets\n",
    "from sklearn import tree\n",
    "from sklearn import preprocessing\n",
    "from sklearn.preprocessing import StandardScaler\n",
    "from sklearn.model_selection import train_test_split\n",
    "from sklearn.metrics import accuracy_score, classification_report, confusion_matrix\n",
    "import graphviz\n",
    "from sklearn import linear_model\n",
    "from sklearn import naive_bayes,neural_network\n",
    "from mlxtend.preprocessing import TransactionEncoder\n",
    "from mlxtend.frequent_patterns import association_rules,apriori\n",
    "import itertools\n",
    "from matplotlib import cm\n",
    "from sklearn.linear_model import LogisticRegression\n",
    "from sklearn.tree import DecisionTreeClassifier\n",
    "from sklearn.neighbors import KNeighborsClassifier\n",
    "from sklearn.discriminant_analysis import LinearDiscriminantAnalysis\n",
    "from sklearn.naive_bayes import GaussianNB\n",
    "from sklearn.svm import SVC\n",
    "# Input data files are available in the \"../input/\" directory.\n",
    "# For example, running this (by clicking run or pressing Shift+Enter) will list the files in the input directory\n",
    "\n",
    "import os\n",
    "print(os.listdir(\"../input\"))\n",
    "\n",
    "%matplotlib inline\n",
    "# Any results you write to the current directory are saved as output."
   ]
  },
  {
   "cell_type": "code",
   "execution_count": 2,
   "metadata": {
    "_uuid": "f81e90fe5e4755a810d82319b3e1fb764bc5d026"
   },
   "outputs": [],
   "source": [
    "trainData = pd.read_csv(\"../input/train.csv\")\n",
    "genderData = pd.read_csv(\"../input/gender_submission.csv\")\n",
    "testData = pd.read_csv(\"../input/test.csv\")"
   ]
  },
  {
   "cell_type": "code",
   "execution_count": 3,
   "metadata": {
    "_uuid": "832a16dfb333d231945fceb5600ca803b5efa81f"
   },
   "outputs": [
    {
     "data": {
      "text/html": [
       "<div>\n",
       "<style scoped>\n",
       "    .dataframe tbody tr th:only-of-type {\n",
       "        vertical-align: middle;\n",
       "    }\n",
       "\n",
       "    .dataframe tbody tr th {\n",
       "        vertical-align: top;\n",
       "    }\n",
       "\n",
       "    .dataframe thead th {\n",
       "        text-align: right;\n",
       "    }\n",
       "</style>\n",
       "<table border=\"1\" class=\"dataframe\">\n",
       "  <thead>\n",
       "    <tr style=\"text-align: right;\">\n",
       "      <th></th>\n",
       "      <th>PassengerId</th>\n",
       "      <th>Survived</th>\n",
       "      <th>Pclass</th>\n",
       "      <th>Age</th>\n",
       "      <th>SibSp</th>\n",
       "      <th>Parch</th>\n",
       "      <th>Fare</th>\n",
       "    </tr>\n",
       "  </thead>\n",
       "  <tbody>\n",
       "    <tr>\n",
       "      <th>count</th>\n",
       "      <td>891.000000</td>\n",
       "      <td>891.000000</td>\n",
       "      <td>891.000000</td>\n",
       "      <td>714.000000</td>\n",
       "      <td>891.000000</td>\n",
       "      <td>891.000000</td>\n",
       "      <td>891.000000</td>\n",
       "    </tr>\n",
       "    <tr>\n",
       "      <th>mean</th>\n",
       "      <td>446.000000</td>\n",
       "      <td>0.383838</td>\n",
       "      <td>2.308642</td>\n",
       "      <td>29.699118</td>\n",
       "      <td>0.523008</td>\n",
       "      <td>0.381594</td>\n",
       "      <td>32.204208</td>\n",
       "    </tr>\n",
       "    <tr>\n",
       "      <th>std</th>\n",
       "      <td>257.353842</td>\n",
       "      <td>0.486592</td>\n",
       "      <td>0.836071</td>\n",
       "      <td>14.526497</td>\n",
       "      <td>1.102743</td>\n",
       "      <td>0.806057</td>\n",
       "      <td>49.693429</td>\n",
       "    </tr>\n",
       "    <tr>\n",
       "      <th>min</th>\n",
       "      <td>1.000000</td>\n",
       "      <td>0.000000</td>\n",
       "      <td>1.000000</td>\n",
       "      <td>0.420000</td>\n",
       "      <td>0.000000</td>\n",
       "      <td>0.000000</td>\n",
       "      <td>0.000000</td>\n",
       "    </tr>\n",
       "    <tr>\n",
       "      <th>25%</th>\n",
       "      <td>223.500000</td>\n",
       "      <td>0.000000</td>\n",
       "      <td>2.000000</td>\n",
       "      <td>20.125000</td>\n",
       "      <td>0.000000</td>\n",
       "      <td>0.000000</td>\n",
       "      <td>7.910400</td>\n",
       "    </tr>\n",
       "    <tr>\n",
       "      <th>50%</th>\n",
       "      <td>446.000000</td>\n",
       "      <td>0.000000</td>\n",
       "      <td>3.000000</td>\n",
       "      <td>28.000000</td>\n",
       "      <td>0.000000</td>\n",
       "      <td>0.000000</td>\n",
       "      <td>14.454200</td>\n",
       "    </tr>\n",
       "    <tr>\n",
       "      <th>75%</th>\n",
       "      <td>668.500000</td>\n",
       "      <td>1.000000</td>\n",
       "      <td>3.000000</td>\n",
       "      <td>38.000000</td>\n",
       "      <td>1.000000</td>\n",
       "      <td>0.000000</td>\n",
       "      <td>31.000000</td>\n",
       "    </tr>\n",
       "    <tr>\n",
       "      <th>max</th>\n",
       "      <td>891.000000</td>\n",
       "      <td>1.000000</td>\n",
       "      <td>3.000000</td>\n",
       "      <td>80.000000</td>\n",
       "      <td>8.000000</td>\n",
       "      <td>6.000000</td>\n",
       "      <td>512.329200</td>\n",
       "    </tr>\n",
       "  </tbody>\n",
       "</table>\n",
       "</div>"
      ],
      "text/plain": [
       "       PassengerId    Survived     ...           Parch        Fare\n",
       "count   891.000000  891.000000     ...      891.000000  891.000000\n",
       "mean    446.000000    0.383838     ...        0.381594   32.204208\n",
       "std     257.353842    0.486592     ...        0.806057   49.693429\n",
       "min       1.000000    0.000000     ...        0.000000    0.000000\n",
       "25%     223.500000    0.000000     ...        0.000000    7.910400\n",
       "50%     446.000000    0.000000     ...        0.000000   14.454200\n",
       "75%     668.500000    1.000000     ...        0.000000   31.000000\n",
       "max     891.000000    1.000000     ...        6.000000  512.329200\n",
       "\n",
       "[8 rows x 7 columns]"
      ]
     },
     "execution_count": 3,
     "metadata": {},
     "output_type": "execute_result"
    }
   ],
   "source": [
    "trainData.describe()"
   ]
  },
  {
   "cell_type": "code",
   "execution_count": 4,
   "metadata": {
    "_uuid": "58f69cc76702dd8faa159c6b55d7f0ed66dcda76"
   },
   "outputs": [
    {
     "data": {
      "text/html": [
       "<div>\n",
       "<style scoped>\n",
       "    .dataframe tbody tr th:only-of-type {\n",
       "        vertical-align: middle;\n",
       "    }\n",
       "\n",
       "    .dataframe tbody tr th {\n",
       "        vertical-align: top;\n",
       "    }\n",
       "\n",
       "    .dataframe thead th {\n",
       "        text-align: right;\n",
       "    }\n",
       "</style>\n",
       "<table border=\"1\" class=\"dataframe\">\n",
       "  <thead>\n",
       "    <tr style=\"text-align: right;\">\n",
       "      <th></th>\n",
       "      <th>PassengerId</th>\n",
       "      <th>Survived</th>\n",
       "      <th>Pclass</th>\n",
       "      <th>Name</th>\n",
       "      <th>Sex</th>\n",
       "      <th>Age</th>\n",
       "      <th>SibSp</th>\n",
       "      <th>Parch</th>\n",
       "      <th>Ticket</th>\n",
       "      <th>Fare</th>\n",
       "      <th>Cabin</th>\n",
       "      <th>Embarked</th>\n",
       "    </tr>\n",
       "  </thead>\n",
       "  <tbody>\n",
       "    <tr>\n",
       "      <th>0</th>\n",
       "      <td>1</td>\n",
       "      <td>0</td>\n",
       "      <td>3</td>\n",
       "      <td>Braund, Mr. Owen Harris</td>\n",
       "      <td>male</td>\n",
       "      <td>22.0</td>\n",
       "      <td>1</td>\n",
       "      <td>0</td>\n",
       "      <td>A/5 21171</td>\n",
       "      <td>7.2500</td>\n",
       "      <td>NaN</td>\n",
       "      <td>S</td>\n",
       "    </tr>\n",
       "    <tr>\n",
       "      <th>1</th>\n",
       "      <td>2</td>\n",
       "      <td>1</td>\n",
       "      <td>1</td>\n",
       "      <td>Cumings, Mrs. John Bradley (Florence Briggs Th...</td>\n",
       "      <td>female</td>\n",
       "      <td>38.0</td>\n",
       "      <td>1</td>\n",
       "      <td>0</td>\n",
       "      <td>PC 17599</td>\n",
       "      <td>71.2833</td>\n",
       "      <td>C85</td>\n",
       "      <td>C</td>\n",
       "    </tr>\n",
       "    <tr>\n",
       "      <th>2</th>\n",
       "      <td>3</td>\n",
       "      <td>1</td>\n",
       "      <td>3</td>\n",
       "      <td>Heikkinen, Miss. Laina</td>\n",
       "      <td>female</td>\n",
       "      <td>26.0</td>\n",
       "      <td>0</td>\n",
       "      <td>0</td>\n",
       "      <td>STON/O2. 3101282</td>\n",
       "      <td>7.9250</td>\n",
       "      <td>NaN</td>\n",
       "      <td>S</td>\n",
       "    </tr>\n",
       "    <tr>\n",
       "      <th>3</th>\n",
       "      <td>4</td>\n",
       "      <td>1</td>\n",
       "      <td>1</td>\n",
       "      <td>Futrelle, Mrs. Jacques Heath (Lily May Peel)</td>\n",
       "      <td>female</td>\n",
       "      <td>35.0</td>\n",
       "      <td>1</td>\n",
       "      <td>0</td>\n",
       "      <td>113803</td>\n",
       "      <td>53.1000</td>\n",
       "      <td>C123</td>\n",
       "      <td>S</td>\n",
       "    </tr>\n",
       "    <tr>\n",
       "      <th>4</th>\n",
       "      <td>5</td>\n",
       "      <td>0</td>\n",
       "      <td>3</td>\n",
       "      <td>Allen, Mr. William Henry</td>\n",
       "      <td>male</td>\n",
       "      <td>35.0</td>\n",
       "      <td>0</td>\n",
       "      <td>0</td>\n",
       "      <td>373450</td>\n",
       "      <td>8.0500</td>\n",
       "      <td>NaN</td>\n",
       "      <td>S</td>\n",
       "    </tr>\n",
       "  </tbody>\n",
       "</table>\n",
       "</div>"
      ],
      "text/plain": [
       "   PassengerId  Survived  Pclass    ...        Fare Cabin  Embarked\n",
       "0            1         0       3    ...      7.2500   NaN         S\n",
       "1            2         1       1    ...     71.2833   C85         C\n",
       "2            3         1       3    ...      7.9250   NaN         S\n",
       "3            4         1       1    ...     53.1000  C123         S\n",
       "4            5         0       3    ...      8.0500   NaN         S\n",
       "\n",
       "[5 rows x 12 columns]"
      ]
     },
     "execution_count": 4,
     "metadata": {},
     "output_type": "execute_result"
    }
   ],
   "source": [
    "trainData.head()"
   ]
  },
  {
   "cell_type": "code",
   "execution_count": 5,
   "metadata": {
    "_uuid": "9deaaa984a0f12b34c121482579b9e686aa27a8c"
   },
   "outputs": [
    {
     "data": {
      "text/html": [
       "<div>\n",
       "<style scoped>\n",
       "    .dataframe tbody tr th:only-of-type {\n",
       "        vertical-align: middle;\n",
       "    }\n",
       "\n",
       "    .dataframe tbody tr th {\n",
       "        vertical-align: top;\n",
       "    }\n",
       "\n",
       "    .dataframe thead th {\n",
       "        text-align: right;\n",
       "    }\n",
       "</style>\n",
       "<table border=\"1\" class=\"dataframe\">\n",
       "  <thead>\n",
       "    <tr style=\"text-align: right;\">\n",
       "      <th></th>\n",
       "      <th>PassengerId</th>\n",
       "      <th>Survived</th>\n",
       "    </tr>\n",
       "  </thead>\n",
       "  <tbody>\n",
       "    <tr>\n",
       "      <th>0</th>\n",
       "      <td>892</td>\n",
       "      <td>0</td>\n",
       "    </tr>\n",
       "    <tr>\n",
       "      <th>1</th>\n",
       "      <td>893</td>\n",
       "      <td>1</td>\n",
       "    </tr>\n",
       "    <tr>\n",
       "      <th>2</th>\n",
       "      <td>894</td>\n",
       "      <td>0</td>\n",
       "    </tr>\n",
       "    <tr>\n",
       "      <th>3</th>\n",
       "      <td>895</td>\n",
       "      <td>0</td>\n",
       "    </tr>\n",
       "    <tr>\n",
       "      <th>4</th>\n",
       "      <td>896</td>\n",
       "      <td>1</td>\n",
       "    </tr>\n",
       "  </tbody>\n",
       "</table>\n",
       "</div>"
      ],
      "text/plain": [
       "   PassengerId  Survived\n",
       "0          892         0\n",
       "1          893         1\n",
       "2          894         0\n",
       "3          895         0\n",
       "4          896         1"
      ]
     },
     "execution_count": 5,
     "metadata": {},
     "output_type": "execute_result"
    }
   ],
   "source": [
    "genderData.head()"
   ]
  },
  {
   "cell_type": "code",
   "execution_count": 6,
   "metadata": {
    "_uuid": "add786460810e6170b14a3592a4309527881934a"
   },
   "outputs": [
    {
     "data": {
      "text/html": [
       "<div>\n",
       "<style scoped>\n",
       "    .dataframe tbody tr th:only-of-type {\n",
       "        vertical-align: middle;\n",
       "    }\n",
       "\n",
       "    .dataframe tbody tr th {\n",
       "        vertical-align: top;\n",
       "    }\n",
       "\n",
       "    .dataframe thead th {\n",
       "        text-align: right;\n",
       "    }\n",
       "</style>\n",
       "<table border=\"1\" class=\"dataframe\">\n",
       "  <thead>\n",
       "    <tr style=\"text-align: right;\">\n",
       "      <th></th>\n",
       "      <th>PassengerId</th>\n",
       "      <th>Pclass</th>\n",
       "      <th>Name</th>\n",
       "      <th>Sex</th>\n",
       "      <th>Age</th>\n",
       "      <th>SibSp</th>\n",
       "      <th>Parch</th>\n",
       "      <th>Ticket</th>\n",
       "      <th>Fare</th>\n",
       "      <th>Cabin</th>\n",
       "      <th>Embarked</th>\n",
       "    </tr>\n",
       "  </thead>\n",
       "  <tbody>\n",
       "    <tr>\n",
       "      <th>0</th>\n",
       "      <td>892</td>\n",
       "      <td>3</td>\n",
       "      <td>Kelly, Mr. James</td>\n",
       "      <td>male</td>\n",
       "      <td>34.5</td>\n",
       "      <td>0</td>\n",
       "      <td>0</td>\n",
       "      <td>330911</td>\n",
       "      <td>7.8292</td>\n",
       "      <td>NaN</td>\n",
       "      <td>Q</td>\n",
       "    </tr>\n",
       "    <tr>\n",
       "      <th>1</th>\n",
       "      <td>893</td>\n",
       "      <td>3</td>\n",
       "      <td>Wilkes, Mrs. James (Ellen Needs)</td>\n",
       "      <td>female</td>\n",
       "      <td>47.0</td>\n",
       "      <td>1</td>\n",
       "      <td>0</td>\n",
       "      <td>363272</td>\n",
       "      <td>7.0000</td>\n",
       "      <td>NaN</td>\n",
       "      <td>S</td>\n",
       "    </tr>\n",
       "    <tr>\n",
       "      <th>2</th>\n",
       "      <td>894</td>\n",
       "      <td>2</td>\n",
       "      <td>Myles, Mr. Thomas Francis</td>\n",
       "      <td>male</td>\n",
       "      <td>62.0</td>\n",
       "      <td>0</td>\n",
       "      <td>0</td>\n",
       "      <td>240276</td>\n",
       "      <td>9.6875</td>\n",
       "      <td>NaN</td>\n",
       "      <td>Q</td>\n",
       "    </tr>\n",
       "    <tr>\n",
       "      <th>3</th>\n",
       "      <td>895</td>\n",
       "      <td>3</td>\n",
       "      <td>Wirz, Mr. Albert</td>\n",
       "      <td>male</td>\n",
       "      <td>27.0</td>\n",
       "      <td>0</td>\n",
       "      <td>0</td>\n",
       "      <td>315154</td>\n",
       "      <td>8.6625</td>\n",
       "      <td>NaN</td>\n",
       "      <td>S</td>\n",
       "    </tr>\n",
       "    <tr>\n",
       "      <th>4</th>\n",
       "      <td>896</td>\n",
       "      <td>3</td>\n",
       "      <td>Hirvonen, Mrs. Alexander (Helga E Lindqvist)</td>\n",
       "      <td>female</td>\n",
       "      <td>22.0</td>\n",
       "      <td>1</td>\n",
       "      <td>1</td>\n",
       "      <td>3101298</td>\n",
       "      <td>12.2875</td>\n",
       "      <td>NaN</td>\n",
       "      <td>S</td>\n",
       "    </tr>\n",
       "  </tbody>\n",
       "</table>\n",
       "</div>"
      ],
      "text/plain": [
       "   PassengerId  Pclass   ...    Cabin Embarked\n",
       "0          892       3   ...      NaN        Q\n",
       "1          893       3   ...      NaN        S\n",
       "2          894       2   ...      NaN        Q\n",
       "3          895       3   ...      NaN        S\n",
       "4          896       3   ...      NaN        S\n",
       "\n",
       "[5 rows x 11 columns]"
      ]
     },
     "execution_count": 6,
     "metadata": {},
     "output_type": "execute_result"
    }
   ],
   "source": [
    "testData.head()"
   ]
  },
  {
   "cell_type": "code",
   "execution_count": 7,
   "metadata": {
    "_uuid": "d407699ae2e48431fae9d8fbc231058c7abcb1e1"
   },
   "outputs": [
    {
     "data": {
      "text/plain": [
       "(891, 12)"
      ]
     },
     "execution_count": 7,
     "metadata": {},
     "output_type": "execute_result"
    }
   ],
   "source": [
    "trainData.shape"
   ]
  },
  {
   "cell_type": "code",
   "execution_count": 8,
   "metadata": {
    "_uuid": "949eed64b77078d9483e299517436579c331a866"
   },
   "outputs": [
    {
     "data": {
      "image/png": "[encoded data removed]",
      "text/plain": [
       "<Figure size 432x288 with 1 Axes>"
      ]
     },
     "metadata": {},
     "output_type": "display_data"
    }
   ],
   "source": [
    "import seaborn as sns\n",
    "sns.countplot(trainData['Survived'],label=\"Survived\")\n",
    "plt.show()"
   ]
  },
  {
   "cell_type": "code",
   "execution_count": 9,
   "metadata": {
    "_uuid": "10e56c1f7f4ed081275491d9ec3ffd1c89ec51f6"
   },
   "outputs": [
    {
     "name": "stdout",
     "output_type": "stream",
     "text": [
      "(891, 7)\n",
      "(418, 7)\n"
     ]
    }
   ],
   "source": [
    "to_drop = ['Survived', 'Name', 'Cabin', 'Embarked','Parch']\n",
    "X_train = trainData.drop(to_drop, axis=1)\n",
    "y_train = trainData['Survived']\n",
    "#X_train, X_test, y_train, y_test = train_test_split(X_train, y_train, test_size=0.15, random_state=1)\n",
    "X_test  = testData.drop(\"PassengerId\", axis=1).copy()\n",
    "to_drop = ['Name', 'Cabin', 'Embarked', 'Parch']\n",
    "X_test = testData.drop(to_drop, axis = 1)\n",
    "print(X_train.shape)\n",
    "print(X_test.shape)\n",
    "le = preprocessing.LabelEncoder()\n",
    "le.fit(X_train['Sex'])\n",
    "X_train = X_train.apply(le.fit_transform)\n",
    "le = preprocessing.LabelEncoder()\n",
    "le.fit(X_test['Sex'])\n",
    "X_test = X_test.apply(le.fit_transform)\n"
   ]
  },
  {
   "cell_type": "code",
   "execution_count": 10,
   "metadata": {
    "_uuid": "4f9f77a56d9db731cf1e7b14507ec0f70b8bea2a"
   },
   "outputs": [
    {
     "data": {
      "text/plain": [
       "100.0"
      ]
     },
     "execution_count": 10,
     "metadata": {},
     "output_type": "execute_result"
    }
   ],
   "source": [
    "Algo = DecisionTreeClassifier()\n",
    "Algo.fit(X_train, y_train)\n",
    "Y_pred = Algo.predict(X_test)\n",
    "Accuracy = round(Algo.score(X_train, y_train) * 100, 2)\n",
    "Accuracy"
   ]
  },
  {
   "cell_type": "code",
   "execution_count": 11,
   "metadata": {
    "_uuid": "a4d51232f5c667a5aa218d10cd1678f5f9b08389"
   },
   "outputs": [
    {
     "name": "stdout",
     "output_type": "stream",
     "text": [
      "              precision    recall  f1-score   support\n",
      "\n",
      "           0       0.88      0.87      0.87       266\n",
      "           1       0.77      0.78      0.78       152\n",
      "\n",
      "   micro avg       0.84      0.84      0.84       418\n",
      "   macro avg       0.82      0.83      0.82       418\n",
      "weighted avg       0.84      0.84      0.84       418\n",
      "\n",
      "accuracy -  100.0\n"
     ]
    }
   ],
   "source": [
    "print(classification_report(genderData['Survived'],Y_pred))\n",
    "print('accuracy - ', Accuracy)"
   ]
  },
  {
   "cell_type": "code",
   "execution_count": 12,
   "metadata": {
    "_uuid": "9bf727ce899ba7fe03307dff649ffaa69fa32bf6"
   },
   "outputs": [],
   "source": [
    "genderData['Survived'] = pd.DataFrame(Y_pred)"
   ]
  },
  {
   "cell_type": "code",
   "execution_count": 13,
   "metadata": {
    "_uuid": "929ced49b4faf27cfa600194a8bfbe9f948758d1"
   },
   "outputs": [],
   "source": [
    "genderData.to_csv(\"result.csv\", index=False)"
   ]
  },
  {
   "cell_type": "code",
   "execution_count": 14,
   "metadata": {
    "_uuid": "e41e119b68f604b9da7e8c6477f0e14b22d80de9"
   },
   "outputs": [
    {
     "data": {
      "text/plain": [
       "'PassengerId  Survived\\n        892         1\\n        893         0\\n        894         0\\n        895         1\\n        896         1\\n        897         1\\n        898         1\\n        899         0\\n        900         1\\n        901         0\\n        902         1\\n        903         0\\n        904         0\\n        905         0\\n        906         1\\n        907         1\\n        908         0\\n        909         0\\n        910         1\\n        911         1\\n        912         0\\n        913         1\\n        914         0\\n        915         0\\n        916         1\\n        917         0\\n        918         1\\n        919         0\\n        920         0\\n        921         0\\n        922         0\\n        923         0\\n        924         1\\n        925         1\\n        926         0\\n        927         0\\n        928         1\\n        929         1\\n        930         1\\n        931         0\\n        932         1\\n        933         0\\n        934         0\\n        935         1\\n        936         1\\n        937         0\\n        938         0\\n        939         0\\n        940         1\\n        941         1\\n        942         0\\n        943         0\\n        944         0\\n        945         1\\n        946         0\\n        947         0\\n        948         0\\n        949         0\\n        950         0\\n        951         1\\n        952         0\\n        953         0\\n        954         0\\n        955         1\\n        956         1\\n        957         0\\n        958         1\\n        959         0\\n        960         0\\n        961         1\\n        962         1\\n        963         0\\n        964         1\\n        965         1\\n        966         1\\n        967         1\\n        968         1\\n        969         1\\n        970         0\\n        971         1\\n        972         1\\n        973         0\\n        974         0\\n        975         0\\n        976         0\\n        977         0\\n        978         0\\n        979         1\\n        980         0\\n        981         1\\n        982         0\\n        983         0\\n        984         1\\n        985         0\\n        986         0\\n        987         0\\n        988         1\\n        989         0\\n        990         0\\n        991         0\\n        992         1\\n        993         0\\n        994         0\\n        995         0\\n        996         0\\n        997         0\\n        998         0\\n        999         0\\n       1000         0\\n       1001         0\\n       1002         0\\n       1003         0\\n       1004         1\\n       1005         0\\n       1006         1\\n       1007         0\\n       1008         0\\n       1009         0\\n       1010         1\\n       1011         1\\n       1012         1\\n       1013         0\\n       1014         1\\n       1015         1\\n       1016         0\\n       1017         1\\n       1018         0\\n       1019         0\\n       1020         0\\n       1021         0\\n       1022         0\\n       1023         0\\n       1024         1\\n       1025         0\\n       1026         0\\n       1027         1\\n       1028         0\\n       1029         0\\n       1030         1\\n       1031         0\\n       1032         1\\n       1033         1\\n       1034         0\\n       1035         0\\n       1036         0\\n       1037         0\\n       1038         0\\n       1039         1\\n       1040         0\\n       1041         0\\n       1042         1\\n       1043         0\\n       1044         0\\n       1045         1\\n       1046         0\\n       1047         0\\n       1048         1\\n       1049         0\\n       1050         0\\n       1051         1\\n       1052         0\\n       1053         1\\n       1054         0\\n       1055         0\\n       1056         0\\n       1057         0\\n       1058         0\\n       1059         0\\n       1060         1\\n       1061         1\\n       1062         0\\n       1063         0\\n       1064         0\\n       1065         0\\n       1066         0\\n       1067         0\\n       1068         1\\n       1069         0\\n       1070         1\\n       1071         1\\n       1072         0\\n       1073         0\\n       1074         1\\n       1075         0\\n       1076         1\\n       1077         0\\n       1078         1\\n       1079         0\\n       1080         0\\n       1081         0\\n       1082         0\\n       1083         0\\n       1084         1\\n       1085         0\\n       1086         1\\n       1087         0\\n       1088         1\\n       1089         0\\n       1090         0\\n       1091         1\\n       1092         0\\n       1093         1\\n       1094         0\\n       1095         1\\n       1096         0\\n       1097         0\\n       1098         1\\n       1099         0\\n       1100         1\\n       1101         0\\n       1102         0\\n       1103         0\\n       1104         0\\n       1105         1\\n       1106         0\\n       1107         0\\n       1108         0\\n       1109         0\\n       1110         1\\n       1111         0\\n       1112         1\\n       1113         0\\n       1114         1\\n       1115         0\\n       1116         1\\n       1117         0\\n       1118         0\\n       1119         0\\n       1120         0\\n       1121         0\\n       1122         0\\n       1123         1\\n       1124         0\\n       1125         0\\n       1126         0\\n       1127         1\\n       1128         0\\n       1129         0\\n       1130         1\\n       1131         1\\n       1132         1\\n       1133         1\\n       1134         1\\n       1135         0\\n       1136         0\\n       1137         0\\n       1138         1\\n       1139         0\\n       1140         1\\n       1141         1\\n       1142         1\\n       1143         0\\n       1144         0\\n       1145         0\\n       1146         0\\n       1147         0\\n       1148         0\\n       1149         1\\n       1150         1\\n       1151         0\\n       1152         0\\n       1153         1\\n       1154         1\\n       1155         1\\n       1156         0\\n       1157         0\\n       1158         0\\n       1159         0\\n       1160         1\\n       1161         0\\n       1162         0\\n       1163         0\\n       1164         1\\n       1165         1\\n       1166         0\\n       1167         1\\n       1168         0\\n       1169         0\\n       1170         0\\n       1171         0\\n       1172         1\\n       1173         1\\n       1174         0\\n       1175         1\\n       1176         1\\n       1177         0\\n       1178         0\\n       1179         1\\n       1180         0\\n       1181         0\\n       1182         0\\n       1183         1\\n       1184         0\\n       1185         0\\n       1186         0\\n       1187         0\\n       1188         1\\n       1189         0\\n       1190         0\\n       1191         0\\n       1192         0\\n       1193         0\\n       1194         0\\n       1195         0\\n       1196         0\\n       1197         1\\n       1198         1\\n       1199         1\\n       1200         1\\n       1201         0\\n       1202         0\\n       1203         0\\n       1204         0\\n       1205         1\\n       1206         1\\n       1207         1\\n       1208         0\\n       1209         0\\n       1210         0\\n       1211         0\\n       1212         0\\n       1213         0\\n       1214         0\\n       1215         0\\n       1216         1\\n       1217         0\\n       1218         1\\n       1219         0\\n       1220         0\\n       1221         0\\n       1222         1\\n       1223         0\\n       1224         0\\n       1225         1\\n       1226         0\\n       1227         0\\n       1228         0\\n       1229         0\\n       1230         0\\n       1231         0\\n       1232         0\\n       1233         0\\n       1234         0\\n       1235         1\\n       1236         0\\n       1237         1\\n       1238         0\\n       1239         1\\n       1240         0\\n       1241         1\\n       1242         1\\n       1243         0\\n       1244         0\\n       1245         0\\n       1246         1\\n       1247         0\\n       1248         1\\n       1249         0\\n       1250         0\\n       1251         1\\n       1252         0\\n       1253         1\\n       1254         1\\n       1255         0\\n       1256         1\\n       1257         0\\n       1258         0\\n       1259         1\\n       1260         1\\n       1261         0\\n       1262         0\\n       1263         1\\n       1264         0\\n       1265         0\\n       1266         0\\n       1267         1\\n       1268         1\\n       1269         0\\n       1270         0\\n       1271         1\\n       1272         0\\n       1273         0\\n       1274         0\\n       1275         1\\n       1276         0\\n       1277         1\\n       1278         0\\n       1279         0\\n       1280         0\\n       1281         1\\n       1282         1\\n       1283         1\\n       1284         1\\n       1285         0\\n       1286         0\\n       1287         1\\n       1288         0\\n       1289         1\\n       1290         0\\n       1291         0\\n       1292         1\\n       1293         0\\n       1294         1\\n       1295         0\\n       1296         0\\n       1297         0\\n       1298         0\\n       1299         0\\n       1300         1\\n       1301         1\\n       1302         0\\n       1303         1\\n       1304         1\\n       1305         0\\n       1306         1\\n       1307         0\\n       1308         0\\n       1309         0'"
      ]
     },
     "execution_count": 14,
     "metadata": {},
     "output_type": "execute_result"
    }
   ],
   "source": [
    "genderData.to_string(index=False)"
   ]
  },
  {
   "cell_type": "code",
   "execution_count": 15,
   "metadata": {
    "_uuid": "ca1b4fbdf5c8219bc5ccafd92d59b2d9490da71d"
   },
   "outputs": [
    {
     "name": "stderr",
     "output_type": "stream",
     "text": [
      "/opt/conda/lib/python3.6/site-packages/sklearn/linear_model/logistic.py:433: FutureWarning: Default solver will be changed to 'lbfgs' in 0.22. Specify a solver to silence this warning.\n",
      "  FutureWarning)\n"
     ]
    },
    {
     "data": {
      "text/plain": [
       "79.57"
      ]
     },
     "execution_count": 15,
     "metadata": {},
     "output_type": "execute_result"
    }
   ],
   "source": [
    "Algo = LogisticRegression()\n",
    "Algo.fit(X_train, y_train)\n",
    "Y_pred = Algo.predict(X_test)\n",
    "Accuracy = round(Algo.score(X_train, y_train) * 100, 2)\n",
    "Accuracy"
   ]
  },
  {
   "cell_type": "code",
   "execution_count": 16,
   "metadata": {
    "_uuid": "8a1db02f85884a11650f61e1047574954764eb82"
   },
   "outputs": [
    {
     "data": {
      "text/plain": [
       "76.99"
      ]
     },
     "execution_count": 16,
     "metadata": {},
     "output_type": "execute_result"
    }
   ],
   "source": [
    "Algo = KNeighborsClassifier()\n",
    "Algo.fit(X_train, y_train)\n",
    "Y_pred = Algo.predict(X_test)\n",
    "Accuracy = round(Algo.score(X_train, y_train) * 100, 2)\n",
    "Accuracy"
   ]
  },
  {
   "cell_type": "code",
   "execution_count": 17,
   "metadata": {
    "_uuid": "03ad23699072bc3c8257850d04685707cc6c1e06"
   },
   "outputs": [
    {
     "data": {
      "text/plain": [
       "79.35"
      ]
     },
     "execution_count": 17,
     "metadata": {},
     "output_type": "execute_result"
    }
   ],
   "source": [
    "Algo = LinearDiscriminantAnalysis()\n",
    "Algo.fit(X_train, y_train)\n",
    "Y_pred = Algo.predict(X_test)\n",
    "Accuracy = round(Algo.score(X_train, y_train) * 100, 2)\n",
    "Accuracy"
   ]
  },
  {
   "cell_type": "code",
   "execution_count": 18,
   "metadata": {
    "_uuid": "0a775fffefddd694ad2456f62d1ee3308abca4c6"
   },
   "outputs": [
    {
     "data": {
      "text/plain": [
       "77.22"
      ]
     },
     "execution_count": 18,
     "metadata": {},
     "output_type": "execute_result"
    }
   ],
   "source": [
    "Algo = GaussianNB()\n",
    "Algo.fit(X_train, y_train)\n",
    "Y_pred = Algo.predict(X_test)\n",
    "Accuracy = round(Algo.score(X_train, y_train) * 100, 2)\n",
    "Accuracy"
   ]
  },
  {
   "cell_type": "code",
   "execution_count": 19,
   "metadata": {
    "_uuid": "10b31e37173a3f2447c09b5c633e9c55d2ec1d3e"
   },
   "outputs": [
    {
     "name": "stderr",
     "output_type": "stream",
     "text": [
      "/opt/conda/lib/python3.6/site-packages/sklearn/svm/base.py:196: FutureWarning: The default value of gamma will change from 'auto' to 'scale' in version 0.22 to account better for unscaled features. Set gamma explicitly to 'auto' or 'scale' to avoid this warning.\n",
      "  \"avoid this warning.\", FutureWarning)\n"
     ]
    },
    {
     "data": {
      "text/plain": [
       "100.0"
      ]
     },
     "execution_count": 19,
     "metadata": {},
     "output_type": "execute_result"
    }
   ],
   "source": [
    "Algo = SVC()\n",
    "Algo.fit(X_train, y_train)\n",
    "Y_pred = Algo.predict(X_test)\n",
    "Accuracy = round(Algo.score(X_train, y_train) * 100, 2)\n",
    "Accuracy"
   ]
  }
 ],
 "metadata": {
  "kernelspec": {
   "display_name": "Python 3",
   "language": "python",
   "name": "python3"
  },
  "language_info": {
   "codemirror_mode": {
    "name": "ipython",
    "version": 3
   },
   "file_extension": ".py",
   "mimetype": "text/x-python",
   "name": "python",
   "nbconvert_exporter": "python",
   "pygments_lexer": "ipython3",
   "version": "3.6.6"
  }
 },
 "nbformat": 4,
 "nbformat_minor": 1
}
